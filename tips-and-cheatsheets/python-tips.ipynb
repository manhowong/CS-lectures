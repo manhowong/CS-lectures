{
 "cells": [
  {
   "cell_type": "markdown",
   "metadata": {},
   "source": [
    "# Python tips and tricks"
   ]
  },
  {
   "cell_type": "markdown",
   "metadata": {},
   "source": [
    "**Table of contents**<a id='toc0_'></a>    \n",
    "- 1. [Organizing data: unpacking, zipping, and sorting](#toc1_)    \n",
    "  - 1.1. [Unpacking iterables](#toc1_1_)    \n",
    "  - 1.2. [Zipping iterables](#toc1_2_)    \n",
    "  - 1.3. [Sorting and reversing data](#toc1_3_)    \n",
    "  - 1.4. [Using `key` functions to customize sorting](#toc1_4_)    \n",
    "- 2. [Getting rid of manual loops](#toc2_)    \n",
    "  - 2.1. [Choosing the right method for iteration](#toc2_1_)    \n",
    "  - 2.2. [Generator functions](#toc2_2_)    \n",
    "  - 2.3. [`map()` function](#toc2_3_)    \n",
    "  - 2.4. [`filter()` function](#toc2_4_)    \n",
    "- 3. [Reducing memory usage](#toc3_)    \n",
    "- 4. [Number precision](#toc4_)    \n",
    "  - 4.1. [Rounding and formatting numbers](#toc4_1_)    \n",
    "  - 4.2. [Rounding may not work as expected!](#toc4_2_)    \n",
    "  - 4.3. [Underflow and overflow](#toc4_3_)    \n",
    "- 5. [Miscellaneous](#toc5_)    \n",
    "  - 5.1. [Anonymous function (aka lambda function)](#toc5_1_)    \n",
    "  - 5.2. [Multiplication vs. addition](#toc5_2_)    \n",
    "  - 5.3. [Using non-built-in data types](#toc5_3_)    \n",
    "  - 5.4. [Iterating in custom order](#toc5_4_)    \n",
    "\n",
    "<!-- vscode-jupyter-toc-config\n",
    "\tnumbering=true\n",
    "\tanchor=true\n",
    "\tflat=false\n",
    "\tminLevel=1\n",
    "\tmaxLevel=6\n",
    "\t/vscode-jupyter-toc-config -->\n",
    "<!-- THIS CELL WILL BE REPLACED ON TOC UPDATE. DO NOT WRITE YOUR TEXT IN THIS CELL -->"
   ]
  },
  {
   "cell_type": "code",
   "execution_count": 1,
   "metadata": {},
   "outputs": [],
   "source": [
    "import collections\n",
    "from timeit import default_timer as timer\n",
    "# from time import time  # timeit is more accurate than time\n",
    "import numpy as np\n",
    "import sys\n",
    "from pympler import asizeof"
   ]
  },
  {
   "cell_type": "markdown",
   "metadata": {},
   "source": [
    "# 1. <a id='toc1_'></a>[Organizing data: unpacking, zipping, and sorting](#toc0_)\n",
    "\n",
    "- When working with iterables and iterators, you can often write more concise code with functions that work with them directly (no manual loops needed).\n",
    "- **iterable**: an object that can be iterated over (e.g. a list, tuple, string)\n",
    "- **iterator**: an object that generates the next value when you call next() on it\n",
    "- You can restructure your data easily by **unpacking** and **zipping** iterables (see below)\n",
    "\n",
    "## 1.1. <a id='toc1_1_'></a>[Unpacking iterables](#toc0_)\n",
    "\n",
    "- Unpacking: to retrieve individual elements from an iterable\n",
    "- Use the unpacking operator `*`:\n",
    "\n",
    "    `a, b, c = *[1, 2, 3]`"
   ]
  },
  {
   "cell_type": "code",
   "execution_count": 2,
   "metadata": {},
   "outputs": [
    {
     "name": "stdout",
     "output_type": "stream",
     "text": [
      "([1, 2, 3], [1, 1, 1])\n"
     ]
    }
   ],
   "source": [
    "a = [1,2,3]\n",
    "b = [1,1,1]\n",
    "c = (a, b)\n",
    "\n",
    "print(c)"
   ]
  },
  {
   "cell_type": "markdown",
   "metadata": {},
   "source": [
    "Example use case:"
   ]
  },
  {
   "cell_type": "code",
   "execution_count": 3,
   "metadata": {},
   "outputs": [
    {
     "name": "stdout",
     "output_type": "stream",
     "text": [
      "9\n"
     ]
    }
   ],
   "source": [
    "# # Unpacks the tuple 'c' into its individual elements (a and b),\n",
    "# # and passes them as separate arguments to the function 'func'.\n",
    "\n",
    "def func(x, y):\n",
    "    return sum(x) + sum(y) \n",
    "\n",
    "print(func(*c))"
   ]
  },
  {
   "cell_type": "markdown",
   "metadata": {},
   "source": [
    "## 1.2. <a id='toc1_2_'></a>[Zipping iterables](#toc0_)\n",
    "\n",
    "- Zipping: to combine multiple iterables into a single *iterator* of tuples\n",
    "- Syntax: `zip(iterable1, iterable2, ...)` or `zip(*list_of_iterables)`\n",
    "- The resulting zip object is an *iterator* of tuples:\n",
    "    - It generates tuples containing the elements from each iterable at the same index, e.g.:\n",
    "\n",
    "      `zip([1, 2, 3], [4, 5, 6])` produces an iterator for `[(1, 4), (2, 5), (3, 6)]`\n",
    "\n",
    "    - length of the zip object = length of the shortest iterable, e.g.:\n",
    "  \n",
    "      `zip([1, 2], [4, 5, 6])` produces an iterator for `[(1, 4), (2, 5)]`\n",
    "\n",
    "- You can convert the zip object to a list or tuple if needed, e.g.:\n",
    "    - `list(zip([1, 2, 3], [4, 5, 6]))` returns `[(1, 4), (2, 5), (3, 6)]`\n",
    "    - `list` iterates over the an iterator and collects the results into a list\n",
    "- Be aware that an iterator **can only be iterated over once!!**\n",
    "    - If you need to use the zip object multiple times, you need to recreate it"
   ]
  },
  {
   "cell_type": "code",
   "execution_count": 4,
   "metadata": {},
   "outputs": [
    {
     "name": "stdout",
     "output_type": "stream",
     "text": [
      "<zip object at 0x0000026A5E966140>\n",
      "[(1, 1), (2, 1), (3, 1)]\n",
      "((1, 1), (2, 1), (3, 1))\n"
     ]
    }
   ],
   "source": [
    "zipped = zip(a, b)\n",
    "print(zipped)\n",
    "print(list(zipped))  # convert zipped to a list\n",
    "\n",
    "zipped = zip(a, b)  # note: zipped was already used above. We need to recreate it\n",
    "print(tuple(zipped))  # convert zipped to a tuple"
   ]
  },
  {
   "cell_type": "markdown",
   "metadata": {},
   "source": [
    "Example use case: Iterate over multiple lists simultaneously"
   ]
  },
  {
   "cell_type": "code",
   "execution_count": 5,
   "metadata": {},
   "outputs": [
    {
     "name": "stdout",
     "output_type": "stream",
     "text": [
      "1 1\n",
      "2 1\n",
      "3 1\n"
     ]
    }
   ],
   "source": [
    "for x, y in zip(a, b):\n",
    "    print(x, y)"
   ]
  },
  {
   "cell_type": "markdown",
   "metadata": {},
   "source": [
    "## 1.3. <a id='toc1_3_'></a>[Sorting and reversing data](#toc0_)\n",
    "\n",
    "(This file covers lists, tuples and dictionaries only. For Numpy arrays, see the Numpy notes.)\n",
    "\n",
    "Sort a list:\n",
    "\n",
    "- `.sort()` method: sorts a list *in place* in ascending order\n",
    "- `sorted()` function: returns a ***list*** in ascending order\n",
    "    - Syntax: `sorted(iterable, key=None, reverse=False)` (also see the `key` functions section below)\n",
    "\n",
    "Reverse a list:\n",
    "\n",
    "- `.reverse()` method: reverses the list *in place*\n",
    "- `list(reversed())`: The `reversed()` function returns a reversed ***iterator*, not the list!**\n",
    "- `sorted(my_list, reverse=True)` returns a new sorted list in descending order\n",
    "- Slicing backward: `my_list[::-1]`\n"
   ]
  },
  {
   "cell_type": "code",
   "execution_count": 6,
   "metadata": {},
   "outputs": [
    {
     "name": "stdout",
     "output_type": "stream",
     "text": [
      "[5, 4, 3, 2, 1]\n",
      "[1, 2, 3, 4, 5]\n",
      "[5, 4, 3, 2, 1]\n",
      "[5, 4, 3, 2, 1]\n"
     ]
    }
   ],
   "source": [
    "a = [5, 4, 2, 1, 3]\n",
    "a.sort() # Sort the list *in place*\n",
    "a.reverse()  # Reverse the list *in place*\n",
    "print(a) # prints [5, 4, 3, 2, 1]\n",
    "\n",
    "a = [5, 4, 2, 1, 3]\n",
    "sorted_a = sorted(a) # returns [1, 2, 3, 4, 5]\n",
    "reversed_a = sorted(a, reverse=True) # returns [5, 4, 3, 2, 1]\n",
    "reversed_sorted_a = list(reversed(sorted_a)) # same output as above\n",
    "print(sorted_a)\n",
    "print(reversed_a)\n",
    "print(reversed_sorted_a)"
   ]
  },
  {
   "cell_type": "markdown",
   "metadata": {},
   "source": [
    "Sort or reverse a tuple:\n",
    "\n",
    "- Tuples are immutable, so you cannot sort or reverse them in place using `.sort()` or `.reverse()`\n",
    "- `sorted()` and `reversed()` returns a ***list*** and an ***iterator***, respectively. You can convert the output back to a tuple after sorting:\n",
    "    - `tuple(sorted(my_tuple))` returns a new sorted tuple\n",
    "    - `tuple(reversed(my_tuple))` returns a new reversed tuple"
   ]
  },
  {
   "cell_type": "code",
   "execution_count": 7,
   "metadata": {},
   "outputs": [
    {
     "name": "stdout",
     "output_type": "stream",
     "text": [
      "(1, 2, 3, 4, 5)\n"
     ]
    }
   ],
   "source": [
    "a = (5, 4, 2, 1, 3)\n",
    "sorted_a = tuple(sorted(a))  # returns (1, 2, 3, 4, 5)\n",
    "print(sorted_a)"
   ]
  },
  {
   "cell_type": "markdown",
   "metadata": {},
   "source": [
    "Sort a dictionary:\n",
    "\n",
    "- `dict(sorted(my_dict.items()))` sorts a dictionary by its keys\n",
    "- `dict(sorted(my_dict.items(), key=lambda item: item[1]))` sorts a dictionary by its values\n",
    "- Note that `sorted(my_dict.items())` returns a list of key-value tuples, so you need to convert it back to a dictionary using `dict()`.\n",
    "- Alternatively, use a dictionary comprehension with `sorted()`:\n",
    "    - `{k: my_dict[k] for k in sorted(my_dict)}` sorts by keys\n",
    "    - `{k: my_dict[k] for k in sorted(my_dict, key=lambda item: item[1])}` sorts by values\n",
    "    - Notice that `my_dict.items()` is not needed here because by default `sorted()` sorts the keys.\n",
    "- You can reverse dictionary items using similar techniques.\n",
    "\n",
    "**ATTENTION**:\n",
    "\n",
    "- Dictionaries are *unordered* collections **before Python 3.7**.\n",
    "- `pprint` (pretty print) sorts dictionaries by keys by default. Set `sort_dicts=False` to disable this. "
   ]
  },
  {
   "cell_type": "code",
   "execution_count": 8,
   "metadata": {},
   "outputs": [
    {
     "name": "stdout",
     "output_type": "stream",
     "text": [
      "{'a': 3, 'b': 1, 'c': 2}\n",
      "{'a': 3, 'b': 1, 'c': 2}\n"
     ]
    }
   ],
   "source": [
    "my_dict = {'b': 1, 'a': 3, 'c': 2}\n",
    "\n",
    "# Sort by keys\n",
    "sorted_by_keys = dict(sorted(my_dict.items()))\n",
    "print(sorted_by_keys)\n",
    "\n",
    "# Sort by keys (using a dictionary comprehension)\n",
    "sorted_by_keys = {k: my_dict[k] for k in sorted(my_dict.keys())}\n",
    "print(sorted_by_keys) # same output as above"
   ]
  },
  {
   "cell_type": "markdown",
   "metadata": {},
   "source": [
    "## 1.4. <a id='toc1_4_'></a>[Using `key` functions to customize sorting](#toc0_)\n",
    "\n",
    "- By default, functions like `sorted()`, `max()`, `min()`, etc. sort an iterable in ascending order.\n",
    "- To change the sorting order, pass a **key function** as the `key` argument to these functions.\n",
    "- A key function takes an item from the iterable and returns a value that will be used for sorting or comparison (instead of using the item itself).\n",
    "    - Example: `sorted(iterable, key = lambda x: abs(x))` (sort by absolute value)"
   ]
  },
  {
   "cell_type": "code",
   "execution_count": 9,
   "metadata": {},
   "outputs": [
    {
     "name": "stdout",
     "output_type": "stream",
     "text": [
      "[1, -2, 3, -4]\n",
      "c\n",
      "a\n"
     ]
    }
   ],
   "source": [
    "# Sort by absolute values\n",
    "a = [1, -2, 3, -4]\n",
    "print(sorted(a, key=lambda x: abs(x))) # prints [1, -2, 3, -4]\n",
    "\n",
    "# Find the dict key with the maximum dict value\n",
    "my_dict = {'b': 1, 'c': 2, 'a': 3}\n",
    "print(max(my_dict)) # prints 'c' (dict keys are sorted alphabetically by default)\n",
    "print(max(my_dict, key=lambda x: my_dict[x])) # prints 'a' (sort by dict values instead)"
   ]
  },
  {
   "cell_type": "markdown",
   "metadata": {},
   "source": [
    "# 2. <a id='toc2_'></a>[Getting rid of manual loops](#toc0_)\n",
    "\n",
    "- Ways to iterate over data without a manual loop:\n",
    "    - list comprehensions: `[x for x in iterable]`\n",
    "    - generator expressions: `(x for x in iterable)` (This creates an iterator that generates values on-the-fly)\n",
    "    - generator functions: `def my_generator(): yield x` (This creates a function that returns an iterator)\n",
    "    - `map()`: apply a function to each element of an iterable\n",
    "    - `filter()`: filter elements of an iterable based on a condition\n",
    "    - `itertools` module: provides functions for creating iterators for efficient looping \n",
    "\n",
    "## 2.1. <a id='toc2_1_'></a>[Choosing the right method for iteration](#toc0_)\n",
    "\n",
    "- Some methods are more efficient than others, depending on the use case, e.g.:\n",
    "    - Why do you want to iterate over the data? (e.g. to apply a function, filter elements, organize/sorting data)\n",
    "    - Do you need to get the results of all iterations at once/ iterate over the entire data right away?\n",
    "    - Do you need to iterate over the data multiple times or just once?\n",
    "- Iterating over an iterable (e.g. `for x in [a,b,c,d,e]:`) in one go can be inefficient:\n",
    "    - It requires loading all items into memory at once\n",
    "    - The results of all iterations need to be stored in memory, which can be inefficient for large datasets\n",
    "- If you don't need to iterate over all items right away (e.g. you only need the next item at a time), consider iterating over an iterator instead of an iterable:\n",
    "    - No need to load all items into memory at once (the next item is generated on-the-fly)\n",
    "    - You can create an iterator in several ways:\n",
    "        - Using the `iter()` function on an iterable: `iter(iterable)`\n",
    "        - Using functions that return iterators, e.g. `range()`, `zip()`, `map()`, `filter()`\n",
    "        - Using a generator (a special kind of iterator)\n",
    "            - a **generator expression**: `(x for x in iterable)`\n",
    "            - a **generator function**: `def my_generator(): yield x`\n",
    "- If you need to iterate over the same iterator multiple times, consider creating a generator function so you can recreate the iterator easily when needed. (Remember that an iterator can only be iterated over once!)\n",
    "\n",
    "## 2.2. <a id='toc2_2_'></a>[Generator functions](#toc0_)\n",
    "\n",
    "- A generator function returns a generator object (an iterator)\n",
    "- It uses the `yield` keyword (not `return`) to return values **one at a time**\n",
    "- Call `next()` on the generator object to get the next value"
   ]
  },
  {
   "cell_type": "code",
   "execution_count": 10,
   "metadata": {},
   "outputs": [
    {
     "name": "stdout",
     "output_type": "stream",
     "text": [
      "1\n",
      "2\n",
      "3\n",
      "No more items\n"
     ]
    }
   ],
   "source": [
    "def my_generator():\n",
    "    yield 1\n",
    "    yield 2\n",
    "    yield 3\n",
    "\n",
    "# Alternatively:\n",
    "def my_generator():\n",
    "    for i in range(1, 4):\n",
    "        yield i\n",
    "\n",
    "gen = my_generator()\n",
    "print(next(gen))  # prints 1\n",
    "print(next(gen))  # prints 2\n",
    "print(next(gen))  # prints 3\n",
    "print(next(gen, 'No more items'))  # prints 'No more items' since the generator is exhausted"
   ]
  },
  {
   "cell_type": "markdown",
   "metadata": {},
   "source": [
    "## 2.3. <a id='toc2_3_'></a>[`map()` function](#toc0_)\n",
    "\n",
    "- The `map()` function applies a function to each element of an iterable (or multiple iterables) and returns a map object (an iterator)\n",
    "- Syntax: `map(function, iterable)`"
   ]
  },
  {
   "cell_type": "code",
   "execution_count": 11,
   "metadata": {},
   "outputs": [
    {
     "name": "stdout",
     "output_type": "stream",
     "text": [
      "[1, 4, 9]\n",
      "[5, 7, 9]\n"
     ]
    }
   ],
   "source": [
    "def func(x):\n",
    "    return x**2\n",
    "a = [1, 2, 3]\n",
    "\n",
    "print(list(map(func, a)))\n",
    "\n",
    "# Multiple iterables with map function\n",
    "def func(x, y):\n",
    "    return x + y\n",
    "a = [1, 2, 3]\n",
    "b = [4, 5, 6]\n",
    "print(list(map(func, a, b)))"
   ]
  },
  {
   "cell_type": "markdown",
   "metadata": {},
   "source": [
    "`map()` vs list comprehensions:\n",
    "- `map()` is faster than list comprehensions, but it returns an iterator.\n",
    "- To get a list, you will need to use `list()`.\n",
    "    - This means you will still need to iterate over all the items (`list()` iterates over the iterator).\n",
    "    - So, if have a list to iterate over, you might as well just use list comprehensions."
   ]
  },
  {
   "cell_type": "code",
   "execution_count": 12,
   "metadata": {},
   "outputs": [
    {
     "name": "stdout",
     "output_type": "stream",
     "text": [
      "Time taken with list comprehension: 0.412 s\n",
      "Time taken with map(func, a): 0.203 s\n",
      "Time taken with list(map(func, a)): 0.659 s\n"
     ]
    }
   ],
   "source": [
    "# Compare the performance of list comprehensions and map function\n",
    "def func(x):\n",
    "    return x**2\n",
    "\n",
    "start = timer()\n",
    "for i in range(1000000):\n",
    "    [x**2 for x in a] # returns a list\n",
    "print(f\"Time taken with list comprehension: {timer()-start:.3f} s\")\n",
    "\n",
    "start = timer()\n",
    "for i in range(1000000):\n",
    "    map(func, a) # returns a map object\n",
    "print(f\"Time taken with map(func, a): {timer()-start:.3f} s\")\n",
    "\n",
    "start = timer()\n",
    "for i in range(1000000):\n",
    "    list(map(func, a)) # returns a list\n",
    "print(f\"Time taken with list(map(func, a)): {timer()-start:.3f} s\")\n"
   ]
  },
  {
   "cell_type": "markdown",
   "metadata": {},
   "source": [
    "## 2.4. <a id='toc2_4_'></a>[`filter()` function](#toc0_)\n",
    "\n",
    "- The `filter()` function filters elements of an iterable based on a function and returns a filter object (an iterator)\n",
    "- Syntax: `filter(function, iterable)`"
   ]
  },
  {
   "cell_type": "code",
   "execution_count": 13,
   "metadata": {},
   "outputs": [
    {
     "name": "stdout",
     "output_type": "stream",
     "text": [
      "[2, 4, 6]\n"
     ]
    }
   ],
   "source": [
    "def func(x): \n",
    "    return x % 2 == 0 # to filter even numbers\n",
    "a = [1,2,3,4,5,6]\n",
    "\n",
    "print(list(filter(func, a)))"
   ]
  },
  {
   "cell_type": "markdown",
   "metadata": {},
   "source": [
    "`filter()` vs `np.where()`:\n",
    "\n",
    "- `filter()` works with both lists and numpy arrays.\n",
    "- In some cases, `filter()` is faster than `np.where()` **even for numpy arrays!**"
   ]
  },
  {
   "cell_type": "code",
   "execution_count": 14,
   "metadata": {},
   "outputs": [
    {
     "name": "stdout",
     "output_type": "stream",
     "text": [
      "Time taken with list(filter(func, a)): 0.977 s\n",
      "Time taken with list(filter(func, a)) on numpy array: 2.045 s\n",
      "Time taken with a[np.where(a%2==0)]: 5.644 s\n"
     ]
    }
   ],
   "source": [
    "def func(x): \n",
    "    return x % 2 == 0 # to filter even numbers\n",
    "\n",
    "start = timer()\n",
    "for i in range(1000000):\n",
    "    list(filter(func, a))\n",
    "print(f\"Time taken with list(filter(func, a)): {timer()-start:.3f} s\")\n",
    "\n",
    "a = np.array(a)\n",
    "\n",
    "start = timer()\n",
    "for i in range(1000000):\n",
    "    list(filter(func, a))\n",
    "print(f\"Time taken with list(filter(func, a)) on numpy array: {timer()-start:.3f} s\")\n",
    "\n",
    "start = timer()\n",
    "for i in range(1000000):\n",
    "    a[np.where(a%2==0)] # get a numpy array using the indices returned by np.where\n",
    "print(f\"Time taken with a[np.where(a%2==0)]: {timer()-start:.3f} s\")"
   ]
  },
  {
   "cell_type": "markdown",
   "metadata": {},
   "source": [
    "# 3. <a id='toc3_'></a>[Reducing memory usage](#toc0_)\n",
    "\n",
    "- Use **Numpy arrays** instead of lists for numerical data.\n",
    "- Use **iterators** instead of iterables when you don't need to iterate over all items right away. (See the section on making iterations more efficient)\n",
    "\n",
    "Example\n",
    "- Numpy arrays are way more memory-efficient than lists, especially for large datasets:"
   ]
  },
  {
   "cell_type": "code",
   "execution_count": 15,
   "metadata": {},
   "outputs": [
    {
     "name": "stdout",
     "output_type": "stream",
     "text": [
      "Memory usage of a: 31.74 MB\n",
      "Memory usage of a_numpy: 7.63 MB\n"
     ]
    }
   ],
   "source": [
    "a = [[np.random.rand() for _ in range(100)] for _ in range(10000)] # a list of lists (2D array)\n",
    "a_numpy = np.array(a)\n",
    "\n",
    "# memory usage (in MB)\n",
    "a_numpy_size = sys.getsizeof(a_numpy) / (1024*1024)\n",
    "\n",
    "# Note that sys.getsizeof() returns the size of the outer object, not the size\n",
    "# of the elements inside it. To get the accurate size of the list 'a', we need to\n",
    "# sum the sizes of all its elements at all levels (including sublists).\n",
    "a_size = (sum([sys.getsizeof(x) for sublist in a for x in sublist])\n",
    "            + sum([sys.getsizeof(sublist) for sublist in a])\n",
    "            + sys.getsizeof(a)\n",
    "        ) / (1024 * 1024)\n",
    "# Alternatively, use pympler to get the size of 'a'\n",
    "# from pympler import asizeof\n",
    "# a_size = asizeof.asizeof(a) / (1024 * 1024)\n",
    "\n",
    "print(f\"Memory usage of a: {a_size:.2f} MB\")\n",
    "print(f\"Memory usage of a_numpy: {a_numpy_size:.2f} MB\")\n"
   ]
  },
  {
   "cell_type": "markdown",
   "metadata": {},
   "source": [
    "# 4. <a id='toc4_'></a>[Number precision](#toc0_)\n",
    "\n",
    "## 4.1. <a id='toc4_1_'></a>[Rounding and formatting numbers](#toc0_)"
   ]
  },
  {
   "cell_type": "code",
   "execution_count": 16,
   "metadata": {},
   "outputs": [
    {
     "name": "stdout",
     "output_type": "stream",
     "text": [
      "----- Rounding numbers -----\n",
      "1.23\n",
      "1.230\n",
      "1.230\n",
      "12000\n",
      "----- Scientific notation -----\n",
      "1.23e+09\n",
      "1.2e+09\n"
     ]
    }
   ],
   "source": [
    "# --- Rounding numbers ---\n",
    "print('----- Rounding numbers -----')\n",
    "\n",
    "# Rounding to n decimal places\n",
    "# round(number, ndigits)\n",
    "print(round(1.2304, 3)) # round to 3 decimal places, prints 1.23\n",
    "\n",
    "# n significant figures (allows trailing zeros)\n",
    "# f'{variable:format_specifier}'\n",
    "# OR: format(variable, format_specifier)\n",
    "print(f'{1.2304:.3f}') # include 3 significant figures, prints 1.230\n",
    "print(format(1.2304, '.3f')) # include 3 significant figures, prints 1.230\n",
    "\n",
    "# Rounding to the nearest tenth, hundredth, thousandth, etc.\n",
    "# round(number, -n)\n",
    "print(round(12345, -3)) # rounds to the nearest 1000, prints 12000 (2 significant figures)\n",
    "\n",
    "# --- Scientific notation ---\n",
    "print('----- Scientific notation -----')\n",
    "\n",
    "print(f'{1234567890:.2e}') # prints 1.23e+09\n",
    "# print(format(1234567890, '.2e'))\n",
    "\n",
    "# Scientific notation with a specific number of significant figures\n",
    "print(f'{1234567890:.2g}') # prints 1.2e+09 (2 significant figures)\n",
    "# print(format(1234567890, '.2g'))"
   ]
  },
  {
   "cell_type": "markdown",
   "metadata": {},
   "source": [
    "## 4.2. <a id='toc4_2_'></a>[Rounding may not work as expected!](#toc0_)\n",
    "\n",
    "- Rounding may not work as expected due to floating-point representation errors. For example, \n",
    "    - `round(0.1 + 0.2, 2)` does not return `0.3`, but rather `0.30000000000000004`.\n",
    "    - `round(1.005, 2)` does not return `1.01`, but rather `1.0`."
   ]
  },
  {
   "cell_type": "code",
   "execution_count": 17,
   "metadata": {},
   "outputs": [
    {
     "name": "stdout",
     "output_type": "stream",
     "text": [
      "0.3\n",
      "1.0\n"
     ]
    }
   ],
   "source": [
    "print(round(0.1 + 0.2, 2))\n",
    "print(round(1.005, 2))"
   ]
  },
  {
   "cell_type": "markdown",
   "metadata": {},
   "source": [
    "## 4.3. <a id='toc4_3_'></a>[Underflow and overflow](#toc0_)\n",
    "\n",
    "- Underflow and overflow can occur when performing arithmetic operations that result in values that are too small or too large:\n",
    "    - **Underflow**: `1e-400` is too small to be represented accurately, resulting in `0.0`.\n",
    "    - **Overflow**: `1e400` is too large to be represented accurately, resulting in `inf`.\n",
    " "
   ]
  },
  {
   "cell_type": "code",
   "execution_count": 18,
   "metadata": {},
   "outputs": [
    {
     "name": "stdout",
     "output_type": "stream",
     "text": [
      "0.0\n",
      "inf\n"
     ]
    }
   ],
   "source": [
    "print(1e-400) # prints 0.0 (underflow)\n",
    "print(1e400) # prints inf (overflow)"
   ]
  },
  {
   "cell_type": "markdown",
   "metadata": {},
   "source": [
    "In some cases, multiplcation can lead to representation issues, such as underflow (e.g. when multiplying very small numbers together).\n",
    "- To avoid this, one can take the logarithm of the numbers *before* multiplying them so that each number is replaced by its logarithm and multiplication is replaced by addition of the logarithms. (`log(a * b * c * d) = log(a) + log(b) + log(c) + log(d)`)\n",
    "- This results in a more stable computation (i.e. less prone to underflow or overflow issues) and allows a wider range of values to be represented."
   ]
  },
  {
   "cell_type": "code",
   "execution_count": 19,
   "metadata": {},
   "outputs": [
    {
     "name": "stdout",
     "output_type": "stream",
     "text": [
      "Product of a, b, c, d: 0.0\n",
      "Logarithm of product: -918.2614484753785\n"
     ]
    }
   ],
   "source": [
    "a, b, c, d = 2e-100, 2e-100, 2e-100, 2e-100\n",
    "p, q, r, s = np.log(a), np.log(b), np.log(c), np.log(d)\n",
    "log_sum = p + q + r + s\n",
    "\n",
    "print(f\"Product of a, b, c, d: {a * b * c * d}\")\n",
    "print(f\"Logarithm of product: {log_sum}\")\n",
    "\n",
    "# Note that logrithm of the numbers must be taken before multiplying them\n",
    "# np.log(a * b * c * d)  # This will return -inf due to underflow"
   ]
  },
  {
   "cell_type": "markdown",
   "metadata": {},
   "source": [
    "# 5. <a id='toc5_'></a>[Miscellaneous](#toc0_)\n",
    "\n",
    "## 5.1. <a id='toc5_1_'></a>[Anonymous function (aka lambda function)](#toc0_)\n",
    "\n",
    "- Key functions are often defined as **anonymous functions**\n",
    "- Syntax: `lambda arguments: expression`\n",
    "- Only one expression allowed\n",
    "- It can be used directly or assigned to a variable"
   ]
  },
  {
   "cell_type": "code",
   "execution_count": 20,
   "metadata": {},
   "outputs": [
    {
     "name": "stdout",
     "output_type": "stream",
     "text": [
      "9\n",
      "3\n"
     ]
    }
   ],
   "source": [
    "# lambda function with one argument\n",
    "func = lambda x: x**2\n",
    "print(func(3))\n",
    "\n",
    "# lambda function with two arguments\n",
    "func = lambda x, y: x + y\n",
    "print(func(1, 2))"
   ]
  },
  {
   "cell_type": "markdown",
   "metadata": {},
   "source": [
    "## 5.2. <a id='toc5_2_'></a>[Multiplication vs. addition](#toc0_)\n",
    "\n",
    "- Multiplication is not necessarily slower than addition.\n",
    "- This is because addition of floating-point numbers can be more complex due to the need to align the decimal points."
   ]
  },
  {
   "cell_type": "code",
   "execution_count": 21,
   "metadata": {},
   "outputs": [
    {
     "name": "stdout",
     "output_type": "stream",
     "text": [
      "Multiplication: 0.410 microseconds\n",
      "Summation     : 0.403 microseconds\n"
     ]
    }
   ],
   "source": [
    "a, b, c, d = 0.25, 0.25, 0.25, 0.25\n",
    "\n",
    "time_mul = 0\n",
    "time_add = 0\n",
    "\n",
    "iter = 1000000\n",
    "for _ in range(iter):\n",
    "    # multiplication\n",
    "    start_mul = timer()\n",
    "    product = a * b * c * d\n",
    "    end_mul = timer()\n",
    "    time_mul += end_mul - start_mul\n",
    "    # summation\n",
    "    start_add = timer()\n",
    "    summed = a + b + c + d\n",
    "    end_add = timer()\n",
    "    time_add += end_add - start_add\n",
    "\n",
    "print(f\"Multiplication: {time_mul / iter * 1e6:.3f} microseconds\")\n",
    "print(f\"Summation     : {time_add / iter * 1e6:.3f} microseconds\")"
   ]
  },
  {
   "cell_type": "markdown",
   "metadata": {},
   "source": [
    "## 5.3. <a id='toc5_3_'></a>[Using non-built-in data types](#toc0_)\n",
    "\n",
    "- The collections module provides alternatives to built-in data types like lists, tuples, and dictionaries. \n",
    "- It also provides additional data structures like `deque`, `defaultdict`, `Counter`, and `namedtuple`."
   ]
  },
  {
   "cell_type": "code",
   "execution_count": 22,
   "metadata": {},
   "outputs": [
    {
     "name": "stdout",
     "output_type": "stream",
     "text": [
      "----- The deque data structure -----\n",
      "deque([1, 2, 3])\n",
      "deque([1, 2, 3, 4])\n",
      "deque([0, 1, 2, 3, 4])\n",
      "deque([0, 1, 2, 3])\n",
      "deque([1, 2, 3])\n",
      "list append: 0.105018500238657\n",
      "list access: 0.000821900088340044\n",
      "deque append: 0.09464980009943247\n",
      "deque access: 1.2352163000032306\n"
     ]
    }
   ],
   "source": [
    "# The deque data structure\n",
    "print('----- The deque data structure -----')\n",
    "\n",
    "# Deque is a double-ended queue that supports adding and removing elements from\n",
    "# both ends in O(1) time. (A bit faster than lists)\n",
    "# Syntax: collections.deque(iterable)\n",
    "# Example: Create a deque object from the list a\n",
    "\n",
    "a = [1,2,3]\n",
    "d = collections.deque(a)\n",
    "print(d) # prints deque([1, 2, 3])\n",
    "\n",
    "d.append(4) # Add elements to the end\n",
    "print(d) # prints deque([1, 2, 3, 4])\n",
    "\n",
    "d.appendleft(0) # Add elements to the beginning\n",
    "print(d) # prints deque([0, 1, 2, 3, 4])\n",
    "\n",
    "d.pop() # Remove elements from the end\n",
    "print(d) # prints deque([0, 1, 2, 3])\n",
    "\n",
    "d.popleft() # Remove elements from the beginning\n",
    "print(d) # prints deque([1, 2, 3])\n",
    "\n",
    "# Notes: deque vs lists\n",
    "# - deque is faster than lists for adding and removing elements from both ends.\n",
    "# - deque is much SLOWER than lists for accessing elements in the middle.\n",
    "\n",
    "# --- list operations --- \n",
    "\n",
    "a = [1,2,3]\n",
    "start = timer()\n",
    "for i in range(1000000):\n",
    "    a.append(1)\n",
    "print('list append:', timer()-start)\n",
    "\n",
    "start = timer()\n",
    "for i in range(10000):\n",
    "    a[500000]\n",
    "print('list access:', timer()-start)\n",
    "\n",
    "# --- deque operations --- \n",
    "\n",
    "a = [1,2,3]\n",
    "d = collections.deque(a)\n",
    "start = timer()\n",
    "for i in range(1000000):\n",
    "    d.append(1)\n",
    "print('deque append:', timer()-start)\n",
    "\n",
    "start = timer()\n",
    "for i in range(10000):\n",
    "    d[500000]\n",
    "print('deque access:', timer()-start)\n",
    "\n"
   ]
  },
  {
   "cell_type": "code",
   "execution_count": 23,
   "metadata": {},
   "outputs": [
    {
     "name": "stdout",
     "output_type": "stream",
     "text": [
      "----- The Counter data structure -----\n",
      "Counter({1: 3, 2: 3, 3: 3})\n"
     ]
    }
   ],
   "source": [
    "# Counter\n",
    "print('----- The Counter data structure -----')\n",
    "\n",
    "# A dictionary that counts the number of occurrences of each element in an\n",
    "# iterable. It is faster than using a for loop with a dictionary.\n",
    "# Syntax: collections.Counter(iterable)\n",
    "# Example: Create a Counter object from the list a\n",
    "\n",
    "a = [1,2,3,1,2,3,1,2,3]\n",
    "c = collections.Counter(a)\n",
    "print(c) # prints Counter({1: 3, 2: 3, 3: 3})\n",
    "\n"
   ]
  },
  {
   "cell_type": "code",
   "execution_count": 24,
   "metadata": {},
   "outputs": [
    {
     "name": "stdout",
     "output_type": "stream",
     "text": [
      "----- The namedtuple data structure -----\n",
      "1 2\n",
      "1 2\n",
      "namedtuple memory usage: 120\n",
      "dict memory usage: 360\n",
      "namedtuple access time: 1.0628104996867478\n",
      "dict access time: 0.9576869001612067\n"
     ]
    }
   ],
   "source": [
    "# The namedtuple data structure\n",
    "print('----- The namedtuple data structure -----')\n",
    "\n",
    "# - A tuple with named fields. Think of it as a dictionary with predefined keys.\n",
    "# - It is more memory-efficient than using a dictionary.\n",
    "# Syntax: collections.namedtuple(typename, field_names)\n",
    "# Example: Create a namedtuple object with the fields x and y\n",
    "\n",
    "MyClass = collections.namedtuple('MyClass', ['x', 'y']) # MyClass is the typename\n",
    "p = MyClass(1, 2) # each value is assigned to each of the predefined fields (x, y)\n",
    "# You can access the fields by their names or their indices\n",
    "print(p.x, p.y) # prints 1 2\n",
    "print(p[0], p[1]) # prints 1 2\n",
    "\n",
    "# Note: Unlike an object, you cannot change the fields of a namedtuple after creation.\n",
    "# p.x = 3  # this won't work\n",
    "\n",
    "# namedtuple is more memory-efficient than a dictionary.\n",
    "# Accessing fields in a namedtuple is slightly slower (but not significantly).\n",
    "\n",
    "# namedtuple vs dictionary memory usage\n",
    "p = MyClass(1, 2)\n",
    "print('namedtuple memory usage:', asizeof.asizeof(p)) # prints 120\n",
    "dict = {'x':1, 'y':2}\n",
    "print('dict memory usage:', asizeof.asizeof(dict)) # prints 360\n",
    "\n",
    "# Time efficiency of namedtuple vs dictionary (accessing fields)\n",
    "# Accessing fields in a namedtuple \n",
    "start = timer()\n",
    "for i in range(10000000):\n",
    "    p.x\n",
    "print('namedtuple access time:', timer() - start)\n",
    "# Accessing fields in a dictionary\n",
    "start = timer()\n",
    "for i in range(10000000):\n",
    "    dict['x']\n",
    "print('dict access time:', timer() - start)\n"
   ]
  },
  {
   "cell_type": "markdown",
   "metadata": {},
   "source": [
    "## 5.4. <a id='toc5_4_'></a>[Iterating in custom order](#toc0_)\n",
    "\n"
   ]
  },
  {
   "cell_type": "code",
   "execution_count": 25,
   "metadata": {},
   "outputs": [
    {
     "name": "stdout",
     "output_type": "stream",
     "text": [
      "3 1 2 4 5 \n",
      "1 2 3 4 5 \n",
      "5 4 3 2 1 "
     ]
    }
   ],
   "source": [
    "a = [5, 4, 2, 1, 3]\n",
    "\n",
    "# Iterate in reverse order\n",
    "for x in reversed(a):\n",
    "    print(x, end=' ')  # prints 3 1 2 4 5\n",
    "\n",
    "print()  # new line\n",
    "\n",
    "# Iterate in ascending order\n",
    "for x in sorted(a):\n",
    "    print(x, end=' ')  # prints 1 2 3 4 5\n",
    "\n",
    "print()  # new line\n",
    "\n",
    "# Iterate in custom order\n",
    "for x in sorted(a, key=lambda x: -x):  # sort by negative value\n",
    "    print(x, end=' ')  # prints 5 4 3 2 1"
   ]
  }
 ],
 "metadata": {
  "kernelspec": {
   "display_name": "base",
   "language": "python",
   "name": "python3"
  },
  "language_info": {
   "codemirror_mode": {
    "name": "ipython",
    "version": 3
   },
   "file_extension": ".py",
   "mimetype": "text/x-python",
   "name": "python",
   "nbconvert_exporter": "python",
   "pygments_lexer": "ipython3",
   "version": "3.11.4"
  }
 },
 "nbformat": 4,
 "nbformat_minor": 2
}
