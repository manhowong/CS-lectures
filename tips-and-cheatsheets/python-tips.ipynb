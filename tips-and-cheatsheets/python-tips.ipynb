{
 "cells": [
  {
   "cell_type": "markdown",
   "metadata": {},
   "source": [
    "**Table of contents**<a id='toc0_'></a>    \n",
    "- 1. [Python tips and tricks](#toc1_)    \n",
    "- 2. [Writing more concise code](#toc2_)    \n",
    "  - 2.1. [Unpacking iterables](#toc2_1_)    \n",
    "  - 2.2. [Zipping iterables](#toc2_2_)    \n",
    "  - 2.3. [Defining sorting order using `key` functions](#toc2_3_)    \n",
    "  - 2.4. [Anonymous function (aka lambda function)](#toc2_4_)    \n",
    "- 3. [Making iterations more efficient](#toc3_)    \n",
    "  - 3.1. [Choosing the right method for iteration](#toc3_1_)    \n",
    "  - 3.2. [Generator functions](#toc3_2_)    \n",
    "  - 3.3. [`map()` function](#toc3_3_)    \n",
    "  - 3.4. [`filter()` function](#toc3_4_)    \n",
    "- 4. [Reducing memory usage](#toc4_)    \n",
    "- 5. [Number precision](#toc5_)    \n",
    "  - 5.1. [Rounding and formatting numbers](#toc5_1_)    \n",
    "  - 5.2. [Rounding may not work as expected!](#toc5_2_)    \n",
    "  - 5.3. [Underflow and overflow](#toc5_3_)    \n",
    "- 6. [Miscellaneous](#toc6_)    \n",
    "  - 6.1. [Multiplication vs. addition](#toc6_1_)    \n",
    "  - 6.2. [Using non-built-in data types](#toc6_2_)    \n",
    "\n",
    "<!-- vscode-jupyter-toc-config\n",
    "\tnumbering=true\n",
    "\tanchor=true\n",
    "\tflat=false\n",
    "\tminLevel=1\n",
    "\tmaxLevel=6\n",
    "\t/vscode-jupyter-toc-config -->\n",
    "<!-- THIS CELL WILL BE REPLACED ON TOC UPDATE. DO NOT WRITE YOUR TEXT IN THIS CELL -->"
   ]
  },
  {
   "cell_type": "markdown",
   "metadata": {},
   "source": [
    "# 1. <a id='toc1_'></a>[Python tips and tricks](#toc0_)"
   ]
  },
  {
   "cell_type": "code",
   "execution_count": null,
   "metadata": {},
   "outputs": [],
   "source": [
    "import collections\n",
    "from timeit import default_timer as timer\n",
    "# from time import time  # timeit is more accurate than time\n",
    "import numpy as np\n",
    "import sys"
   ]
  },
  {
   "cell_type": "markdown",
   "metadata": {},
   "source": [
    "# 2. <a id='toc2_'></a>[Writing more concise code](#toc0_)\n",
    "\n",
    "- When working with iterables and iterators, you can often write more concise code with functions that work with them directly (no loops needed).\n",
    "- **iterable**: an object that can be iterated over (e.g. a list, tuple, string)\n",
    "- **iterator**: an object that generates the next value when you call next() on it\n",
    "- You can restructure your data easily by **unpacking** and **zipping** iterables (see below)\n",
    "\n",
    "## 2.1. <a id='toc2_1_'></a>[Unpacking iterables](#toc0_)\n",
    "\n",
    "- Unpacking: to retrieve individual elements from an iterable\n",
    "- Use the unpacking operator `*`:\n",
    "\n",
    "    `a, b, c = *[1, 2, 3]`"
   ]
  },
  {
   "cell_type": "code",
   "execution_count": 47,
   "metadata": {},
   "outputs": [
    {
     "name": "stdout",
     "output_type": "stream",
     "text": [
      "([1, 2, 3], [1, 1, 1])\n"
     ]
    }
   ],
   "source": [
    "a = [1,2,3]\n",
    "b = [1,1,1]\n",
    "c = (a, b)\n",
    "\n",
    "print(c)"
   ]
  },
  {
   "cell_type": "markdown",
   "metadata": {},
   "source": [
    "Example use case:"
   ]
  },
  {
   "cell_type": "code",
   "execution_count": 48,
   "metadata": {},
   "outputs": [
    {
     "name": "stdout",
     "output_type": "stream",
     "text": [
      "9\n"
     ]
    }
   ],
   "source": [
    "# # Unpacks the tuple 'c' into its individual elements (a and b),\n",
    "# # and passes them as separate arguments to the function 'func'.\n",
    "\n",
    "def func(x, y):\n",
    "    return sum(x) + sum(y) \n",
    "\n",
    "print(func(*c))"
   ]
  },
  {
   "cell_type": "markdown",
   "metadata": {},
   "source": [
    "## 2.2. <a id='toc2_2_'></a>[Zipping iterables](#toc0_)\n",
    "\n",
    "- Zipping: to combine multiple iterables into a single *iterator* of tuples\n",
    "- Syntax: `zip(iterable1, iterable2, ...)` or `zip(*list_of_iterables)`\n",
    "- The resulting zip object is an *iterator* of tuples:\n",
    "    - It generates tuples containing the elements from each iterable at the same index, e.g.:\n",
    "\n",
    "      `zip([1, 2, 3], [4, 5, 6])` produces an iterator for `[(1, 4), (2, 5), (3, 6)]`\n",
    "\n",
    "    - length of the zip object = length of the shortest iterable, e.g.:\n",
    "  \n",
    "      `zip([1, 2], [4, 5, 6])` produces an iterator for `[(1, 4), (2, 5)]`\n",
    "\n",
    "- You can convert the zip object to a list or tuple if needed, e.g.:\n",
    "    - `list(zip([1, 2, 3], [4, 5, 6]))` returns `[(1, 4), (2, 5), (3, 6)]`\n",
    "    - `list` iterates over the an iterator and collects the results into a list\n",
    "- Be aware that an iterator **can only be iterated over once!!**\n",
    "    - If you need to use the zip object multiple times, you need to recreate it"
   ]
  },
  {
   "cell_type": "code",
   "execution_count": 49,
   "metadata": {},
   "outputs": [
    {
     "name": "stdout",
     "output_type": "stream",
     "text": [
      "<zip object at 0x000001FD72DEC680>\n",
      "[(1, 1), (2, 1), (3, 1)]\n",
      "((1, 1), (2, 1), (3, 1))\n"
     ]
    }
   ],
   "source": [
    "zipped = zip(a, b)\n",
    "print(zipped)\n",
    "print(list(zipped))  # convert zipped to a list\n",
    "\n",
    "zipped = zip(a, b)  # note: zipped was already used above. We need to recreate it\n",
    "print(tuple(zipped))  # convert zipped to a tuple"
   ]
  },
  {
   "cell_type": "markdown",
   "metadata": {},
   "source": [
    "Example use case: Iterate over multiple lists simultaneously"
   ]
  },
  {
   "cell_type": "code",
   "execution_count": 50,
   "metadata": {},
   "outputs": [
    {
     "name": "stdout",
     "output_type": "stream",
     "text": [
      "1 1\n",
      "2 1\n",
      "3 1\n"
     ]
    }
   ],
   "source": [
    "for x, y in zip(a, b):\n",
    "    print(x, y)"
   ]
  },
  {
   "cell_type": "markdown",
   "metadata": {},
   "source": [
    "## 2.3. <a id='toc2_3_'></a>[Defining sorting order using `key` functions](#toc0_)\n",
    "\n",
    "- By default, functions like `sorted()`, `max()`, `min()`, etc. order the elements of an iterable in ascending order.\n",
    "- You can define a custom sorting order by passing a function as the `key` argument to these functions.\n",
    "- Example: `sorted(iterable, key=key_function(x))`, where `key_function(x)` is a function that takes an element `x` and returns a value to be used by the outer function."
   ]
  },
  {
   "cell_type": "code",
   "execution_count": null,
   "metadata": {},
   "outputs": [
    {
     "name": "stdout",
     "output_type": "stream",
     "text": [
      "[1, -2, 3, -4]\n",
      "-4\n",
      "c\n",
      "a\n"
     ]
    }
   ],
   "source": [
    "# Sort by absolute values\n",
    "a = [1, -2, 3, -4]\n",
    "print(sorted(a, key=lambda x: abs(x))) # prints [1, -2, 3, -4]\n",
    "\n",
    "# Find the element with the maximum absolute value\n",
    "a = [1, -2, 3, -4]\n",
    "print(max(a, key=lambda x: abs(x))) # prints -4\n",
    "\n",
    "# Find the dict key with the maximum dict value\n",
    "dictionary = {'b': 1, 'c': 2, 'a': 3}\n",
    "print(max(dictionary)) # prints 'c' (dict keys are sorted alphabetically by default)\n",
    "print(max(dictionary, key=lambda x: dictionary[x])) # prints 'a' (sort by dict values instead)"
   ]
  },
  {
   "cell_type": "markdown",
   "metadata": {},
   "source": [
    "## 2.4. <a id='toc2_4_'></a>[Anonymous function (aka lambda function)](#toc0_)\n",
    "\n",
    "- Key functions are often defined as **anonymous functions**\n",
    "- Syntax: `lambda arguments: expression`\n",
    "- Only one expression allowed\n",
    "- It can be used directly or assigned to a variable"
   ]
  },
  {
   "cell_type": "code",
   "execution_count": null,
   "metadata": {},
   "outputs": [
    {
     "name": "stdout",
     "output_type": "stream",
     "text": [
      "9\n",
      "3\n"
     ]
    }
   ],
   "source": [
    "# lambda function with one argument\n",
    "func = lambda x: x**2\n",
    "print(func(3))\n",
    "\n",
    "# lambda function with two arguments\n",
    "func = lambda x, y: x + y\n",
    "print(func(1, 2))"
   ]
  },
  {
   "cell_type": "markdown",
   "metadata": {},
   "source": [
    "# 3. <a id='toc3_'></a>[Making iterations more efficient](#toc0_)\n",
    "\n",
    "- There are multiple ways to iterate over data in Python. For example:\n",
    "    - a loop (e.g. `for` loop)\n",
    "    - list comprehensions: e.g. `[x for x in iterable]` (This creates a list)\n",
    "    - generator expressions: e.g. `(x for x in iterable)` (This creates an iterator that generates values on-the-fly)\n",
    "    - generator functions: e.g. `def my_generator(): yield x` (This creates a function that returns an iterator)\n",
    "    - `map()` function: apply a function to each element of an iterable\n",
    "    - `filter()` function: filter elements of an iterable based on a condition\n",
    "    - `itertools` module: provides functions for creating iterators for efficient looping \n",
    "    - Restructure data by unpacking and zipping iterables (see above)\n",
    "\n",
    "## 3.1. <a id='toc3_1_'></a>[Choosing the right method for iteration](#toc0_)\n",
    "\n",
    "- Some methods are more efficient than others, depending on the use case, e.g.:\n",
    "    - Why do you want to iterate over the data? (e.g. to apply a function, filter elements, restructure the data)\n",
    "    - Do you need to get the results of all iterations at once/ iterate over the entire data right away?\n",
    "    - Do you need to iterate over the data multiple times or just once?\n",
    "- Iterating over an iterable (e.g. `for x in [a,b,c,d,e]:`) in one go can be inefficient:\n",
    "    - It requires loading all items into memory at once\n",
    "    - The results of all iterations need to be stored in memory, which can be inefficient for large datasets\n",
    "- If you don't need to iterate over all items right away (e.g. you only need the next item at a time), consider iterating over an iterator instead of an iterable:\n",
    "    - No need to load all items into memory at once (the next item is generated on-the-fly)\n",
    "    - You can create an iterator in several ways:\n",
    "        - Using the `iter()` function on an iterable: `iter(iterable)`\n",
    "        - Using functions that return iterators, e.g. `range()`, `zip()`, `map()`, `filter()`\n",
    "        - Using a generator (a special kind of iterator)\n",
    "            - a **generator expression**: `(x for x in iterable)`\n",
    "            - a **generator function**: `def my_generator(): yield x`\n",
    "- If you need to iterate over the same iterator multiple times, consider creating a generator function so you can recreate the iterator easily when needed. (Remember that an iterator can only be iterated over once!)\n",
    "\n",
    "## 3.2. <a id='toc3_2_'></a>[Generator functions](#toc0_)\n",
    "\n",
    "- A generator function returns a generator object, which is an iterator\n",
    "- It uses the `yield` keyword (not `return`) to return values **one at a time**\n",
    "- Call `next()` on the generator object to get the next value"
   ]
  },
  {
   "cell_type": "code",
   "execution_count": 63,
   "metadata": {},
   "outputs": [
    {
     "name": "stdout",
     "output_type": "stream",
     "text": [
      "1\n",
      "2\n",
      "3\n",
      "No more items\n"
     ]
    }
   ],
   "source": [
    "def my_generator():\n",
    "    yield 1\n",
    "    yield 2\n",
    "    yield 3\n",
    "\n",
    "# Alternatively:\n",
    "def my_generator():\n",
    "    for i in range(1, 4):\n",
    "        yield i\n",
    "\n",
    "gen = my_generator()\n",
    "print(next(gen))  # prints 1\n",
    "print(next(gen))  # prints 2\n",
    "print(next(gen))  # prints 3\n",
    "print(next(gen, 'No more items'))  # prints 'No more items' since the generator is exhausted"
   ]
  },
  {
   "cell_type": "markdown",
   "metadata": {},
   "source": [
    "## 3.3. <a id='toc3_3_'></a>[`map()` function](#toc0_)\n",
    "\n",
    "- The `map()` function applies a function to each element of an iterable (or multiple iterables) and returns a map object (an iterator)\n",
    "- Syntax: `map(function, iterable)`"
   ]
  },
  {
   "cell_type": "code",
   "execution_count": 73,
   "metadata": {},
   "outputs": [
    {
     "name": "stdout",
     "output_type": "stream",
     "text": [
      "[1, 4, 9]\n",
      "[5, 7, 9]\n"
     ]
    }
   ],
   "source": [
    "def func(x):\n",
    "    return x**2\n",
    "a = [1, 2, 3]\n",
    "\n",
    "print(list(map(func, a)))\n",
    "\n",
    "# Multiple iterables with map function\n",
    "def func(x, y):\n",
    "    return x + y\n",
    "a = [1, 2, 3]\n",
    "b = [4, 5, 6]\n",
    "print(list(map(func, a, b)))"
   ]
  },
  {
   "cell_type": "markdown",
   "metadata": {},
   "source": [
    "`map()` vs list comprehensions:\n",
    "- `map()` is faster than list comprehensions, but it returns an iterator.\n",
    "- To get a list, you will need to use `list()`.\n",
    "    - This means you will still need to iterate over all the items (`list()` iterates over the iterator).\n",
    "    - So, if have a list to iterate over, you might as well just use list comprehensions."
   ]
  },
  {
   "cell_type": "code",
   "execution_count": 70,
   "metadata": {},
   "outputs": [
    {
     "name": "stdout",
     "output_type": "stream",
     "text": [
      "Time taken with list comprehension: 0.401 s\n",
      "Time taken with map(func, a): 0.204 s\n",
      "Time taken with list(map(func, a)): 0.608 s\n"
     ]
    }
   ],
   "source": [
    "# Compare the performance of list comprehensions and map function\n",
    "start = timer()\n",
    "for i in range(1000000):\n",
    "    [x**2 for x in a] # returns a list\n",
    "print(f\"Time taken with list comprehension: {timer()-start:.3f} s\")\n",
    "\n",
    "start = timer()\n",
    "for i in range(1000000):\n",
    "    map(func, a) # returns a map object\n",
    "print(f\"Time taken with map(func, a): {timer()-start:.3f} s\")\n",
    "\n",
    "start = timer()\n",
    "for i in range(1000000):\n",
    "    list(map(func, a)) # returns a list\n",
    "print(f\"Time taken with list(map(func, a)): {timer()-start:.3f} s\")\n"
   ]
  },
  {
   "cell_type": "markdown",
   "metadata": {},
   "source": [
    "## 3.4. <a id='toc3_4_'></a>[`filter()` function](#toc0_)\n",
    "\n",
    "- The `filter()` function filters elements of an iterable based on a function and returns a filter object (an iterator)\n",
    "- Syntax: `filter(function, iterable)`"
   ]
  },
  {
   "cell_type": "code",
   "execution_count": 74,
   "metadata": {},
   "outputs": [
    {
     "name": "stdout",
     "output_type": "stream",
     "text": [
      "[2, 4, 6]\n"
     ]
    }
   ],
   "source": [
    "def func(x): \n",
    "    return x % 2 == 0 # to filter even numbers\n",
    "a = [1,2,3,4,5,6]\n",
    "\n",
    "print(list(filter(func, a)))"
   ]
  },
  {
   "cell_type": "markdown",
   "metadata": {},
   "source": [
    "`filter()` vs `np.where()`:\n",
    "\n",
    "- `filter()` works with both lists and numpy arrays.\n",
    "- In some cases, `filter()` is faster than `np.where()` **even for numpy arrays!**"
   ]
  },
  {
   "cell_type": "code",
   "execution_count": 79,
   "metadata": {},
   "outputs": [
    {
     "name": "stdout",
     "output_type": "stream",
     "text": [
      "Time taken with list(filter(func, a)): 2.064 s\n",
      "Time taken with list(filter(func, a)) on numpy array: 2.116 s\n",
      "Time taken with a[np.where(a%2==0)]: 5.211 s\n"
     ]
    }
   ],
   "source": [
    "start = time()\n",
    "for i in range(1000000):\n",
    "    list(filter(func, a))\n",
    "print(f\"Time taken with list(filter(func, a)): {time()-start:.3f} s\")\n",
    "\n",
    "a = np.array(a)\n",
    "\n",
    "start = time()\n",
    "for i in range(1000000):\n",
    "    list(filter(func, a))\n",
    "print(f\"Time taken with list(filter(func, a)) on numpy array: {time()-start:.3f} s\")\n",
    "\n",
    "start = time()\n",
    "for i in range(1000000):\n",
    "    a[np.where(a%2==0)] # get a numpy array using the indices returned by np.where\n",
    "print(f\"Time taken with a[np.where(a%2==0)]: {time()-start:.3f} s\")"
   ]
  },
  {
   "cell_type": "markdown",
   "metadata": {},
   "source": [
    "# 4. <a id='toc4_'></a>[Reducing memory usage](#toc0_)\n",
    "\n",
    "- Use **Numpy arrays** instead of lists for numerical data.\n",
    "- Use **iterators** instead of iterables when you don't need to iterate over all items right away. (See the section on making iterations more efficient)\n",
    "\n",
    "Example\n",
    "- Numpy arrays are way more memory-efficient than lists, especially for large datasets:"
   ]
  },
  {
   "cell_type": "code",
   "execution_count": null,
   "metadata": {},
   "outputs": [
    {
     "name": "stdout",
     "output_type": "stream",
     "text": [
      "Memory usage of a: 31.74 MB\n",
      "Memory usage of a_numpy: 7.63 MB\n"
     ]
    }
   ],
   "source": [
    "a = [[np.random.rand() for _ in range(100)] for _ in range(10000)] # a list of lists (2D array)\n",
    "a_numpy = np.array(a)\n",
    "\n",
    "# memory usage (in MB)\n",
    "a_numpy_size = sys.getsizeof(a_numpy) / (1024*1024)\n",
    "\n",
    "# Note that sys.getsizeof() returns the size of the outer object, not the size\n",
    "# of the elements inside it. To get the accurate size of the list 'a', we need to\n",
    "# sum the sizes of all its elements at all levels (including sublists).\n",
    "a_size = (sum([sys.getsizeof(x) for sublist in a for x in sublist])\n",
    "            + sum([sys.getsizeof(sublist) for sublist in a])\n",
    "            + sys.getsizeof(a)\n",
    "        ) / (1024 * 1024)\n",
    "# Alternatively, use pympler to get the size of 'a'\n",
    "# from pympler import asizeof\n",
    "# a_size = asizeof.asizeof(a) / (1024 * 1024)\n",
    "\n",
    "print(f\"Memory usage of a: {a_size:.2f} MB\")\n",
    "print(f\"Memory usage of a_numpy: {a_numpy_size:.2f} MB\")\n"
   ]
  },
  {
   "cell_type": "markdown",
   "metadata": {},
   "source": [
    "# 5. <a id='toc5_'></a>[Number precision](#toc0_)\n",
    "\n",
    "## 5.1. <a id='toc5_1_'></a>[Rounding and formatting numbers](#toc0_)"
   ]
  },
  {
   "cell_type": "code",
   "execution_count": 91,
   "metadata": {},
   "outputs": [
    {
     "name": "stdout",
     "output_type": "stream",
     "text": [
      "----- Rounding numbers -----\n",
      "1.23\n",
      "1.230\n",
      "1.230\n",
      "12000\n",
      "----- Scientific notation -----\n",
      "1.23e+09\n",
      "1.2e+09\n"
     ]
    }
   ],
   "source": [
    "# --- Rounding numbers ---\n",
    "print('----- Rounding numbers -----')\n",
    "\n",
    "# Rounding to n decimal places\n",
    "# round(number, ndigits)\n",
    "print(round(1.2304, 3)) # round to 3 decimal places, prints 1.23\n",
    "\n",
    "# n significant figures (allows trailing zeros)\n",
    "# f'{variable:format_specifier}'\n",
    "# OR: format(variable, format_specifier)\n",
    "print(f'{1.2304:.3f}') # include 3 significant figures, prints 1.230\n",
    "print(format(1.2304, '.3f')) # include 3 significant figures, prints 1.230\n",
    "\n",
    "# Rounding to the nearest tenth, hundredth, thousandth, etc.\n",
    "# round(number, -n)\n",
    "print(round(12345, -3)) # rounds to the nearest 1000, prints 12000 (2 significant figures)\n",
    "\n",
    "# --- Scientific notation ---\n",
    "print('----- Scientific notation -----')\n",
    "\n",
    "print(f'{1234567890:.2e}') # prints 1.23e+09\n",
    "# print(format(1234567890, '.2e'))\n",
    "\n",
    "# Scientific notation with a specific number of significant figures\n",
    "print(f'{1234567890:.2g}') # prints 1.2e+09 (2 significant figures)\n",
    "# print(format(1234567890, '.2g'))"
   ]
  },
  {
   "cell_type": "markdown",
   "metadata": {},
   "source": [
    "## 5.2. <a id='toc5_2_'></a>[Rounding may not work as expected!](#toc0_)\n",
    "\n",
    "- Rounding may not work as expected due to floating-point representation errors. For example, \n",
    "    - `round(0.1 + 0.2, 2)` does not return `0.3`, but rather `0.30000000000000004`.\n",
    "    - `round(1.005, 2)` does not return `1.01`, but rather `1.0`."
   ]
  },
  {
   "cell_type": "code",
   "execution_count": 100,
   "metadata": {},
   "outputs": [
    {
     "name": "stdout",
     "output_type": "stream",
     "text": [
      "0.3\n",
      "1.0\n"
     ]
    }
   ],
   "source": [
    "print(round(0.1 + 0.2, 2))\n",
    "print(round(1.005, 2))"
   ]
  },
  {
   "cell_type": "markdown",
   "metadata": {},
   "source": [
    "## 5.3. <a id='toc5_3_'></a>[Underflow and overflow](#toc0_)\n",
    "\n",
    "- Underflow and overflow can occur when performing arithmetic operations that result in values that are too small or too large:\n",
    "    - **Underflow**: `1e-400` is too small to be represented accurately, resulting in `0.0`.\n",
    "    - **Overflow**: `1e400` is too large to be represented accurately, resulting in `inf`.\n",
    " "
   ]
  },
  {
   "cell_type": "code",
   "execution_count": 110,
   "metadata": {},
   "outputs": [
    {
     "name": "stdout",
     "output_type": "stream",
     "text": [
      "0.0\n",
      "inf\n"
     ]
    }
   ],
   "source": [
    "print(1e-400) # prints 0.0 (underflow)\n",
    "print(1e400) # prints inf (overflow)"
   ]
  },
  {
   "cell_type": "markdown",
   "metadata": {},
   "source": [
    "In some cases, multiplcation can lead to representation issues, such as underflow (e.g. when multiplying very small numbers together).\n",
    "- To avoid this, one can take the logarithm of the numbers *before* multiplying them so that each number is replaced by its logarithm and multiplication is replaced by addition of the logarithms. (`log(a * b * c * d) = log(a) + log(b) + log(c) + log(d)`)\n",
    "- This results in a more stable computation (i.e. less prone to underflow or overflow issues) and allows a wider range of values to be represented."
   ]
  },
  {
   "cell_type": "code",
   "execution_count": null,
   "metadata": {},
   "outputs": [
    {
     "name": "stdout",
     "output_type": "stream",
     "text": [
      "Product of a, b, c, d: 0.0\n",
      "Logarithm of product: -918.2614484753785\n"
     ]
    }
   ],
   "source": [
    "a, b, c, d = 2e-100, 2e-100, 2e-100, 2e-100\n",
    "p, q, r, s = np.log(a), np.log(b), np.log(c), np.log(d)\n",
    "log_sum = p + q + r + s\n",
    "\n",
    "print(f\"Product of a, b, c, d: {a * b * c * d}\")\n",
    "print(f\"Logarithm of product: {log_sum}\")\n",
    "\n",
    "# Note that logrithm of the numbers must be taken before multiplying them\n",
    "# np.log(a * b * c * d)  # This will return -inf due to underflow"
   ]
  },
  {
   "cell_type": "markdown",
   "metadata": {},
   "source": [
    "# 6. <a id='toc6_'></a>[Miscellaneous](#toc0_)\n",
    "\n",
    "## 6.1. <a id='toc6_1_'></a>[Multiplication vs. addition](#toc0_)\n",
    "\n",
    "- Multiplication is not necessarily slower than addition.\n",
    "- This is because addition of floating-point numbers can be more complex due to the need to align the decimal points."
   ]
  },
  {
   "cell_type": "code",
   "execution_count": null,
   "metadata": {},
   "outputs": [
    {
     "name": "stdout",
     "output_type": "stream",
     "text": [
      "Multiplication: 0.278 microseconds\n",
      "Summation     : 0.279 microseconds\n"
     ]
    }
   ],
   "source": [
    "a, b, c, d = 0.25, 0.25, 0.25, 0.25\n",
    "\n",
    "time_mul = 0\n",
    "time_add = 0\n",
    "\n",
    "iter = 1000000\n",
    "for _ in range(iter):\n",
    "    # multiplication\n",
    "    start_mul = timer()\n",
    "    product = a * b * c * d\n",
    "    end_mul = timer()\n",
    "    time_mul += end_mul - start_mul\n",
    "    # summation\n",
    "    start_add = timer()\n",
    "    summed = a + b + c + d\n",
    "    end_add = timer()\n",
    "    time_add += end_add - start_add\n",
    "\n",
    "print(f\"Multiplication: {time_mul / iter * 1e6:.3f} microseconds\")\n",
    "print(f\"Summation     : {time_add / iter * 1e6:.3f} microseconds\")"
   ]
  },
  {
   "cell_type": "markdown",
   "metadata": {},
   "source": [
    "## 6.2. <a id='toc6_2_'></a>[Using non-built-in data types](#toc0_)\n",
    "\n",
    "- The collections module provides alternatives to built-in data types like lists, tuples, and dictionaries. \n",
    "- It also provides additional data structures like `deque`, `defaultdict`, `Counter`, and `namedtuple`."
   ]
  },
  {
   "cell_type": "code",
   "execution_count": null,
   "metadata": {},
   "outputs": [
    {
     "name": "stdout",
     "output_type": "stream",
     "text": [
      "----- The deque data structure -----\n",
      "deque([1, 2, 3])\n",
      "deque([1, 2, 3, 4])\n",
      "deque([0, 1, 2, 3, 4])\n",
      "deque([0, 1, 2, 3])\n",
      "deque([1, 2, 3])\n",
      "list append: 0.17824006080627441\n",
      "list access: 0.001764535903930664\n",
      "deque append: 0.1445469856262207\n",
      "deque access: 1.4988398551940918\n"
     ]
    }
   ],
   "source": [
    "# The deque data structure\n",
    "print('----- The deque data structure -----')\n",
    "\n",
    "# Deque is a double-ended queue that supports adding and removing elements from\n",
    "# both ends in O(1) time. (A bit faster than lists)\n",
    "# Syntax: collections.deque(iterable)\n",
    "# Example: Create a deque object from the list a\n",
    "\n",
    "a = [1,2,3]\n",
    "d = collections.deque(a)\n",
    "print(d) # prints deque([1, 2, 3])\n",
    "\n",
    "d.append(4) # Add elements to the end\n",
    "print(d) # prints deque([1, 2, 3, 4])\n",
    "\n",
    "d.appendleft(0) # Add elements to the beginning\n",
    "print(d) # prints deque([0, 1, 2, 3, 4])\n",
    "\n",
    "d.pop() # Remove elements from the end\n",
    "print(d) # prints deque([0, 1, 2, 3])\n",
    "\n",
    "d.popleft() # Remove elements from the beginning\n",
    "print(d) # prints deque([1, 2, 3])\n",
    "\n",
    "# Notes: deque vs lists\n",
    "# - deque is faster than lists for adding and removing elements from both ends.\n",
    "# - deque is much SLOWER than lists for accessing elements in the middle.\n",
    "\n",
    "# --- list operations --- \n",
    "\n",
    "a = [1,2,3]\n",
    "start = time()\n",
    "for i in range(1000000):\n",
    "    a.append(1)\n",
    "print('list append:', time()-start)\n",
    "\n",
    "start = time()\n",
    "for i in range(10000):\n",
    "    a[500000]\n",
    "print('list access:', time()-start)\n",
    "\n",
    "# --- deque operations --- \n",
    "\n",
    "a = [1,2,3]\n",
    "d = collections.deque(a)\n",
    "start = time()\n",
    "for i in range(1000000):\n",
    "    d.append(1)\n",
    "print('deque append:', time()-start)\n",
    "\n",
    "start = time()\n",
    "for i in range(10000):\n",
    "    d[500000]\n",
    "print('deque access:', time()-start)\n",
    "\n"
   ]
  },
  {
   "cell_type": "code",
   "execution_count": null,
   "metadata": {},
   "outputs": [
    {
     "name": "stdout",
     "output_type": "stream",
     "text": [
      "----- The Counter data structure -----\n",
      "Counter({1: 3, 2: 3, 3: 3})\n"
     ]
    }
   ],
   "source": [
    "# Counter\n",
    "print('----- The Counter data structure -----')\n",
    "\n",
    "# A dictionary that counts the number of occurrences of each element in an\n",
    "# iterable. It is faster than using a for loop with a dictionary.\n",
    "# Syntax: collections.Counter(iterable)\n",
    "# Example: Create a Counter object from the list a\n",
    "\n",
    "a = [1,2,3,1,2,3,1,2,3]\n",
    "c = collections.Counter(a)\n",
    "print(c) # prints Counter({1: 3, 2: 3, 3: 3})\n",
    "\n"
   ]
  },
  {
   "cell_type": "code",
   "execution_count": null,
   "metadata": {},
   "outputs": [
    {
     "name": "stdout",
     "output_type": "stream",
     "text": [
      "----- The namedtuple data structure -----\n",
      "1 2\n",
      "1 2\n",
      "namedtuple memory usage: 40\n",
      "dict memory usage: 168\n"
     ]
    }
   ],
   "source": [
    "# The namedtuple data structure\n",
    "print('----- The namedtuple data structure -----')\n",
    "\n",
    "# - A tuple with named fields. Think of it as a dictionary with predefined keys.\n",
    "# - It is more memory-efficient than using a dictionary.\n",
    "# Syntax: collections.namedtuple(typename, field_names)\n",
    "# Example: Create a namedtuple object with the fields x and y\n",
    "\n",
    "MyClass = collections.namedtuple('MyClass', ['x', 'y']) # MyClass is the typename\n",
    "p = MyClass(1, 2) # each value is assigned to each of the predefined fields (x, y)\n",
    "print(p.x, p.y) # prints 1 2\n",
    "print(p[0], p[1]) # prints 1 2\n",
    "\n",
    "# namedtuple vs dictionary memory usage\n",
    "p = MyClass(1, 2)\n",
    "print('namedtuple memory usage:', p.__sizeof__()) # prints 40\n",
    "dict = {'x':1, 'y':2}\n",
    "print('dict memory usage:', dict.__sizeof__()) # prints 216\n"
   ]
  }
 ],
 "metadata": {
  "kernelspec": {
   "display_name": "base",
   "language": "python",
   "name": "python3"
  },
  "language_info": {
   "codemirror_mode": {
    "name": "ipython",
    "version": 3
   },
   "file_extension": ".py",
   "mimetype": "text/x-python",
   "name": "python",
   "nbconvert_exporter": "python",
   "pygments_lexer": "ipython3",
   "version": "3.11.4"
  }
 },
 "nbformat": 4,
 "nbformat_minor": 2
}
